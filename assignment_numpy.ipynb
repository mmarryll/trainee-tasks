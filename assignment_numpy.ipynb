{
 "cells": [
  {
   "cell_type": "markdown",
   "id": "d3df79dd",
   "metadata": {},
   "source": [
    "## Упражнения по библиотеке Numpy"
   ]
  },
  {
   "cell_type": "code",
   "execution_count": 2,
   "id": "76b9c43b",
   "metadata": {},
   "outputs": [],
   "source": [
    "import numpy as np"
   ]
  },
  {
   "cell_type": "markdown",
   "id": "03727b7c",
   "metadata": {},
   "source": [
    "**1.** Дан случайный массив, поменять знак у элементов, значения которых между 3 и 8"
   ]
  },
  {
   "cell_type": "code",
   "execution_count": 3,
   "id": "b89a7523",
   "metadata": {},
   "outputs": [
    {
     "name": "stdout",
     "output_type": "stream",
     "text": [
      "[-3  8 10 -2  7  4  3  2 -2  8  0  4  1  0  2 13 12 -3 13 -2]\n",
      "[-3  8 10 -2 -7 -4  3  2 -2  8  0 -4  1  0  2 13 12 -3 13 -2]\n"
     ]
    }
   ],
   "source": [
    "arr = np.random.randint(-5, 15, 20)\n",
    "print(arr)\n",
    "for i in range(arr.size):\n",
    "    if (arr[i] > 3) & (arr[i] < 8):\n",
    "        arr[i] = arr[i] * -1\n",
    "print(arr)"
   ]
  },
  {
   "cell_type": "markdown",
   "id": "5fa4abda",
   "metadata": {},
   "source": [
    "**2.** Заменить максимальный элемент случайного массива на 0"
   ]
  },
  {
   "cell_type": "code",
   "execution_count": 4,
   "id": "f2788a6e",
   "metadata": {},
   "outputs": [
    {
     "name": "stdout",
     "output_type": "stream",
     "text": [
      "[  6   2   2   7  -5  -1  -8  -7  -7  -5   4  -8   0 -10  -9  -6   0  -8\n",
      "  -1   3]\n",
      "[  6   2   2   0  -5  -1  -8  -7  -7  -5   4  -8   0 -10  -9  -6   0  -8\n",
      "  -1   3]\n"
     ]
    }
   ],
   "source": [
    "arr = np.random.randint(-10, 10, 20)\n",
    "print(arr)\n",
    "arr[arr.argmax()] = 0\n",
    "print(arr)"
   ]
  },
  {
   "cell_type": "markdown",
   "id": "3cac656b",
   "metadata": {},
   "source": [
    "**3.** Построить прямое произведение массивов (все комбинации с каждым элементом). На вход подается двумерный массив"
   ]
  },
  {
   "cell_type": "code",
   "execution_count": 5,
   "id": "3396b764",
   "metadata": {},
   "outputs": [
    {
     "name": "stdout",
     "output_type": "stream",
     "text": [
      "Origin array: \n",
      "[[-10   8   9]\n",
      " [ -3   9   2]]\n",
      "Combinations: \n",
      "[[-10  -3]\n",
      " [  8  -3]\n",
      " [  9  -3]\n",
      " [-10   9]\n",
      " [  8   9]\n",
      " [  9   9]\n",
      " [-10   2]\n",
      " [  8   2]\n",
      " [  9   2]]\n"
     ]
    }
   ],
   "source": [
    "arr = np.random.randint(-10, 10, (2, 3))\n",
    "print(f'Origin array: \\n{arr}')\n",
    "\n",
    "grids = np.meshgrid(*arr)\n",
    "result = np.column_stack([grid.ravel() for grid in grids])\n",
    "print(f'Combinations: \\n{result}')"
   ]
  },
  {
   "cell_type": "markdown",
   "id": "674c9354",
   "metadata": {},
   "source": [
    "**4.** Даны 2 массива A (8x3) и B (2x2). Найти строки в A, которые содержат элементы из каждой строки в B, независимо от порядка элементов в B"
   ]
  },
  {
   "cell_type": "code",
   "execution_count": 148,
   "id": "cb664782",
   "metadata": {},
   "outputs": [
    {
     "name": "stdout",
     "output_type": "stream",
     "text": [
      "First array: \n",
      "[[1 3 3]\n",
      " [1 0 1]\n",
      " [0 0 1]\n",
      " [1 3 2]\n",
      " [2 1 1]\n",
      " [2 0 1]\n",
      " [1 0 3]\n",
      " [3 3 3]]\n",
      "Second array: \n",
      "[[3 3]\n",
      " [1 3]]\n",
      "Row from first array with elements [3 3] from second array: [1 3 3]\n",
      "Row from first array with elements [3 3] from second array: [3 3 3]\n",
      "Row from first array with elements [1 3] from second array: [1 3 3]\n",
      "Row from first array with elements [1 3] from second array: [1 3 2]\n",
      "Row from first array with elements [1 3] from second array: [1 0 3]\n"
     ]
    }
   ],
   "source": [
    "first = np.random.randint(0, 5, (8,3))\n",
    "second = np.random.randint(0, 5, (2,2))\n",
    "print(f'First array: \\n{first}')\n",
    "print(f'Second array: \\n{second}')\n",
    "\n",
    "for s in second:\n",
    "    us , cs = np.unique(s, return_counts=True)\n",
    "    s_dict = dict(zip(us, cs))\n",
    "    for f in first:\n",
    "        uf , cf = np.unique(f, return_counts=True)\n",
    "        f_dict = dict(zip(uf, cf))\n",
    "        if all(f_dict.get(el, 0) >= s_dict[el] for el in s_dict):\n",
    "            print(f'Row from first array with elements {s} from second array: {f}')"
   ]
  },
  {
   "cell_type": "markdown",
   "id": "fa46533b",
   "metadata": {},
   "source": [
    "**5.** Дана 10x3 матрица, найти строки из неравных значений (например строка [2,2,3] остается, строка [3,3,3] удаляется)"
   ]
  },
  {
   "cell_type": "code",
   "execution_count": 7,
   "id": "fa545b23",
   "metadata": {},
   "outputs": [
    {
     "name": "stdout",
     "output_type": "stream",
     "text": [
      "Origin matrix(shape: (10, 3)): \n",
      "[[0 2 1]\n",
      " [2 2 0]\n",
      " [0 1 0]\n",
      " [0 2 2]\n",
      " [1 0 1]\n",
      " [0 1 1]\n",
      " [2 0 2]\n",
      " [1 2 2]\n",
      " [2 1 1]\n",
      " [2 0 0]]\n",
      "New matrix(shape: (10, 3)): \n",
      "[[0 2 1]\n",
      " [2 2 0]\n",
      " [0 1 0]\n",
      " [0 2 2]\n",
      " [1 0 1]\n",
      " [0 1 1]\n",
      " [2 0 2]\n",
      " [1 2 2]\n",
      " [2 1 1]\n",
      " [2 0 0]]\n",
      "None\n"
     ]
    }
   ],
   "source": [
    "matrix = np.random.randint(0, 3, (10,3))\n",
    "print(f'Origin matrix(shape: {matrix.shape}): \\n{matrix}')\n",
    "\n",
    "mask = []\n",
    "for row in matrix:\n",
    "    if len(np.unique(row)) == 1:\n",
    "        mask.append(False)\n",
    "    else:\n",
    "        mask.append(True)\n",
    "        \n",
    "new_matrix = matrix[mask]\n",
    "\n",
    "print(print(f'New matrix(shape: {new_matrix.shape}): \\n{new_matrix}'))"
   ]
  },
  {
   "cell_type": "markdown",
   "id": "28f0d116",
   "metadata": {},
   "source": [
    "**6.** Дан двумерный массив. Удалить те строки, которые повторяются"
   ]
  },
  {
   "cell_type": "code",
   "execution_count": 8,
   "id": "83d2c0b7",
   "metadata": {},
   "outputs": [
    {
     "name": "stdout",
     "output_type": "stream",
     "text": [
      "Origin array(shape: (8, 4)): \n",
      "[[0 1 0 1]\n",
      " [0 0 0 0]\n",
      " [0 0 0 0]\n",
      " [1 0 1 1]\n",
      " [0 0 1 1]\n",
      " [1 0 0 0]\n",
      " [0 1 1 0]\n",
      " [1 0 1 1]]\n",
      "Array without duplicates(shape: (6, 4)): \n",
      "[[0 0 0 0]\n",
      " [0 0 1 1]\n",
      " [0 1 0 1]\n",
      " [0 1 1 0]\n",
      " [1 0 0 0]\n",
      " [1 0 1 1]]\n"
     ]
    }
   ],
   "source": [
    "arr = np.random.randint(0, 2, (8, 4))\n",
    "print(f'Origin array(shape: {arr.shape}): \\n{arr}')\n",
    "\n",
    "new_arr = np.unique(arr, axis = 0)\n",
    "print(f'Array without duplicates(shape: {new_arr.shape}): \\n{new_arr}')"
   ]
  },
  {
   "cell_type": "markdown",
   "id": "6daa9e37",
   "metadata": {},
   "source": [
    "______\n",
    "______"
   ]
  },
  {
   "cell_type": "markdown",
   "id": "cfbfcaff",
   "metadata": {},
   "source": [
    "Для каждой из следующих задач (1-5) нужно привести 2 реализации – одна без использования numpy (cчитайте, что там, где на входе или выходе должны быть numpy array, будут просто списки), а вторая полностью векторизованная с использованием numpy (без использования питоновских циклов/map/list comprehension).\n",
    "\n",
    "\n",
    "__Замечание 1.__ Можно считать, что все указанные объекты непустые (к примеру, в __задаче 1__ на диагонали матрицы есть ненулевые элементы).\n",
    "\n",
    "__Замечание 2.__ Для большинства задач решение занимает не больше 1-2 строк."
   ]
  },
  {
   "cell_type": "markdown",
   "id": "673cac7f",
   "metadata": {},
   "source": [
    "___"
   ]
  },
  {
   "cell_type": "markdown",
   "id": "ca6f585e",
   "metadata": {},
   "source": [
    "* __Задача 1__: Подсчитать произведение ненулевых элементов на диагонали прямоугольной матрицы.  \n",
    " Например, для X = np.array([[1, 0, 1], [2, 0, 2], [3, 0, 3], [4, 4, 4]]) ответ 3."
   ]
  },
  {
   "cell_type": "code",
   "execution_count": 9,
   "id": "065862fc",
   "metadata": {},
   "outputs": [
    {
     "name": "stdout",
     "output_type": "stream",
     "text": [
      "[[1, 0, 1], [2, 0, 2], [3, 0, 3], [4, 4, 4]]\n",
      "Multiplication not-null diagonal elements: 3\n",
      "[[1 0 1]\n",
      " [2 0 2]\n",
      " [3 0 3]\n",
      " [4 4 4]]\n",
      "Multiplication not-null diagonal elements: 3\n"
     ]
    }
   ],
   "source": [
    "mult = 1\n",
    "X = [[1, 0, 1], [2, 0, 2], [3, 0, 3], [4, 4, 4]]\n",
    "print(X)\n",
    "for i in range(min(len(X[0]), len(X[1]))):\n",
    "        if X[i][i] != 0:\n",
    "            mult = mult * X[i][i]\n",
    "print(f'Multiplication not-null diagonal elements: {mult}')\n",
    "\n",
    "#numpy\n",
    "X = np.array([[1, 0, 1], [2, 0, 2], [3, 0, 3], [4, 4, 4]])  \n",
    "print(X)\n",
    "diag = X.diagonal()\n",
    "mult = np.prod(diag[diag != 0])\n",
    "print(f'Multiplication not-null diagonal elements: {mult}')"
   ]
  },
  {
   "cell_type": "markdown",
   "id": "9fc51d41",
   "metadata": {},
   "source": [
    "* __Задача 2__: Даны два вектора x и y. Проверить, задают ли они одно и то же мультимножество.  \n",
    "  Например, для x = np.array([1, 2, 2, 4]), y = np.array([4, 2, 1, 2]) ответ True."
   ]
  },
  {
   "cell_type": "code",
   "execution_count": 42,
   "id": "a809e02f",
   "metadata": {},
   "outputs": [
    {
     "name": "stdout",
     "output_type": "stream",
     "text": [
      "Is it the same multiset: True\n",
      "Is it the same multiset: True\n"
     ]
    }
   ],
   "source": [
    "x = [1, 2, 2, 4]\n",
    "y = [4, 2, 1, 2]\n",
    "print(f'Is it the same multiset: {sorted(x) == sorted(y)}')\n",
    "\n",
    "#numpy\n",
    "x = np.array([1, 2, 2, 4])\n",
    "y = np.array([4, 2, 1, 2])\n",
    "ux, cx = np.unique(x, return_counts = True)\n",
    "uy, cy = np.unique(y, return_counts = True)\n",
    "print(f'Is it the same multiset: {np.array_equal(ux, uy) and np.array_equal(cx, cy)}')"
   ]
  },
  {
   "cell_type": "markdown",
   "id": "b9c185c7",
   "metadata": {},
   "source": [
    "* __Задача 3__: Найти максимальный элемент в векторе x среди элементов, перед которыми стоит ноль. \n",
    " Например, для x = np.array([6, 2, 0, 3, 0, 0, 5, 7, 0]) ответ 5."
   ]
  },
  {
   "cell_type": "code",
   "execution_count": 64,
   "id": "b57df008",
   "metadata": {},
   "outputs": [
    {
     "name": "stdout",
     "output_type": "stream",
     "text": [
      "Max element after 0: 5\n",
      "Max element after 0: 5\n"
     ]
    }
   ],
   "source": [
    "x = [6, 2, 0, 3, 0, 0, 5, 7, 0]\n",
    "max_el = None\n",
    "for i in range(1, len(x)):\n",
    "    if x[i-1] == 0 and (max_el == None or x[i] > max_el):\n",
    "        max_el = x[i] \n",
    "\n",
    "if max_el == None:\n",
    "    print('There are no elements after 0.')\n",
    "else:\n",
    "    print(f'Max element after 0: {max_el}')\n",
    "\n",
    "#numpy\n",
    "x = np.array([6, 2, 0, 3, 0, 0, 5, 7, 0])\n",
    "indx = np.where(x == 0)[0] + 1\n",
    "indx = indx[indx < len(x)]\n",
    "\n",
    "if len(indx) == 0:\n",
    "    print('There are no elements after 0.')\n",
    "else:\n",
    "    print(f'Max element after 0: {np.max(x[indx])}')"
   ]
  },
  {
   "cell_type": "markdown",
   "id": "480be4ce",
   "metadata": {},
   "source": [
    "* __Задача 4__: Реализовать кодирование длин серий (Run-length encoding). Для некоторого вектора x необходимо вернуть кортеж из двух векторов одинаковой длины. Первый содержит числа, а второй - сколько раз их нужно повторить.  \n",
    " Например, для x = np.array([2, 2, 2, 3, 3, 3, 5]) ответ (np.array([2, 3, 5]), np.array([3, 3, 1]))."
   ]
  },
  {
   "cell_type": "code",
   "execution_count": 104,
   "id": "3c592124",
   "metadata": {},
   "outputs": [
    {
     "name": "stdout",
     "output_type": "stream",
     "text": [
      "[2, 3, 5] [3, 3, 1]\n",
      "[2 3 5] [3 3 1]\n"
     ]
    }
   ],
   "source": [
    "x = [2, 2, 2, 3, 3, 3, 5]\n",
    "numbers = []\n",
    "freqs = []\n",
    "counter = 1\n",
    "for i in range(1, len(x)):      \n",
    "    if (x[i-1] == x[i]):\n",
    "        counter += 1;\n",
    "    else:\n",
    "        numbers.append(x[i-1])\n",
    "        freqs.append(counter)\n",
    "        counter = 1\n",
    "\n",
    "numbers.append(x[-1])\n",
    "freqs.append(counter)\n",
    "print(numbers, freqs)\n",
    "        \n",
    "#numpy\n",
    "x = np.array([2, 2, 2, 3, 3, 3, 5])\n",
    "numbers = x[np.diff(x, prepend = 0) != 0]\n",
    "freqs = np.diff(np.where(np.diff(x, prepend = 0))[0].tolist() + [len(x)])\n",
    "print(numbers, freqs)"
   ]
  },
  {
   "cell_type": "markdown",
   "id": "077532ec",
   "metadata": {},
   "source": [
    "* __Задача 5__: Даны две выборки объектов - X и Y. Вычислить матрицу евклидовых расстояний между объектами. Сравните с функцией scipy.spatial.distance.cdist по скорости работы."
   ]
  },
  {
   "cell_type": "code",
   "execution_count": 149,
   "id": "1e807797",
   "metadata": {},
   "outputs": [
    {
     "name": "stdout",
     "output_type": "stream",
     "text": [
      "Matrix of euclidean distances: \n",
      "[[1.4142135623730951, 2.23606797749979, 2.23606797749979], [2.0, 3.0, 3.0], [2.23606797749979, 2.8284271247461903, 1.4142135623730951]]\n",
      "Runtime: 1.0065 sec\n",
      "\n",
      "Matrix of euclidean distances: \n",
      "[[1.41421356 2.23606798 2.23606798]\n",
      " [2.         3.         3.        ]\n",
      " [2.23606798 2.82842712 1.41421356]]\n",
      "Runtime: 1.0016 sec\n",
      "\n",
      "Matrix of euclidean distances: \n",
      "[[1.41421356 2.23606798 2.23606798]\n",
      " [2.         3.         3.        ]\n",
      " [2.23606798 2.82842712 1.41421356]]\n",
      "Runtime: 1.0038 sec\n"
     ]
    }
   ],
   "source": [
    "import scipy\n",
    "import time\n",
    "import math\n",
    "\n",
    "X = [[1, 2], [0, 3], [1, 1]]\n",
    "Y = [[2, 3], [3, 3], [0, 0]]\n",
    "matrix = []\n",
    "\n",
    "start = time.time()\n",
    "for x in X:  \n",
    "    row = []\n",
    "    for y in Y:  \n",
    "        dist = math.sqrt(sum((xi - yi) ** 2 for xi, yi in zip(x, y)))\n",
    "        row.append(dist)\n",
    "    matrix.append(row)\n",
    "time.sleep(1) \n",
    "end = time.time()\n",
    "\n",
    "print(f'Matrix of euclidean distances: \\n{matrix}')\n",
    "print(f'Runtime: {end - start:.4f} sec')\n",
    "\n",
    "#scipy\n",
    "start = time.time()\n",
    "matrix = scipy.spatial.distance.cdist(X, Y, metric='euclidean')\n",
    "time.sleep(1) \n",
    "end = time.time()\n",
    "\n",
    "print(f'\\nMatrix of euclidean distances: \\n{matrix}')\n",
    "print(f'Runtime: {end - start:.4f} sec')\n",
    "\n",
    "#numpy\n",
    "X = np.array([[1, 2], [0, 3], [1, 1]])\n",
    "Y = np.array([[2, 3], [3, 3], [0, 0]])\n",
    "matrix = np.zeros((len(X), len(Y)))\n",
    "\n",
    "start = time.time()\n",
    "for i, x in enumerate(X):  \n",
    "    for j, y in enumerate(Y):  \n",
    "        matrix[i, j] = np.linalg.norm(x - y)\n",
    "time.sleep(1) \n",
    "end = time.time()\n",
    "\n",
    "print(f'\\nMatrix of euclidean distances: \\n{matrix}')\n",
    "print(f'Runtime: {end - start:.4f} sec')"
   ]
  },
  {
   "cell_type": "markdown",
   "id": "973e8064",
   "metadata": {},
   "source": [
    "_______\n",
    "________"
   ]
  },
  {
   "cell_type": "markdown",
   "id": "1104acb7",
   "metadata": {},
   "source": [
    "* #### __Задача 6__: CrunchieMunchies __*__\n",
    "\n",
    "Вы работаете в отделе маркетинга пищевой компании MyCrunch, которая разрабатывает новый вид вкусных, полезных злаков под названием **CrunchieMunchies**.\n",
    "\n",
    "Вы хотите продемонстрировать потребителям, насколько полезны ваши хлопья по сравнению с другими ведущими брендами, поэтому вы собрали данные о питании нескольких разных конкурентов.\n",
    "\n",
    "Ваша задача - использовать вычисления Numpy для анализа этих данных и доказать, что ваши **СrunchieMunchies** - самый здоровый выбор для потребителей.\n"
   ]
  },
  {
   "cell_type": "code",
   "execution_count": 14,
   "id": "10a77f8d",
   "metadata": {},
   "outputs": [],
   "source": [
    "import numpy as np"
   ]
  },
  {
   "cell_type": "markdown",
   "id": "ab87cb03",
   "metadata": {},
   "source": [
    "1. Просмотрите файл cereal.csv. Этот файл содержит количества калорий для различных марок хлопьев. Загрузите данные из файла и сохраните их как calorie_stats."
   ]
  },
  {
   "cell_type": "code",
   "execution_count": 15,
   "id": "9681ebf2",
   "metadata": {},
   "outputs": [
    {
     "data": {
      "text/plain": [
       "array([ 70., 120.,  70.,  50., 110., 110., 110., 130.,  90.,  90., 120.,\n",
       "       110., 120., 110., 110., 110., 100., 110., 110., 110., 100., 110.,\n",
       "       100., 100., 110., 110., 100., 120., 120., 110., 100., 110., 100.,\n",
       "       110., 120., 120., 110., 110., 110., 140., 110., 100., 110., 100.,\n",
       "       150., 150., 160., 100., 120., 140.,  90., 130., 120., 100.,  50.,\n",
       "        50., 100., 100., 120., 100.,  90., 110., 110.,  80.,  90.,  90.,\n",
       "       110., 110.,  90., 110., 140., 100., 110., 110., 100., 100., 110.])"
      ]
     },
     "execution_count": 15,
     "metadata": {},
     "output_type": "execute_result"
    }
   ],
   "source": [
    "calorie_stats = np.loadtxt(\"./data/cereal.csv\", delimiter=\",\")\n",
    "calorie_stats"
   ]
  },
  {
   "cell_type": "markdown",
   "id": "139cfbd8",
   "metadata": {},
   "source": [
    "2. В одной порции CrunchieMunchies содержится 60 калорий. Насколько выше среднее количество калорий у ваших конкурентов?\n",
    "\n",
    "Сохраните ответ в переменной average_calories и распечатайте переменную в терминале"
   ]
  },
  {
   "cell_type": "code",
   "execution_count": 16,
   "id": "7036d240",
   "metadata": {},
   "outputs": [
    {
     "data": {
      "text/plain": [
       "\"Average score for calories 106.88. It's greater than CrunchieMunchies by 46.88 calories\""
      ]
     },
     "execution_count": 16,
     "metadata": {},
     "output_type": "execute_result"
    }
   ],
   "source": [
    "average_calories = np.mean(calorie_stats)\n",
    "(f'Average score for calories {average_calories:.2f}. It\\'s greater than CrunchieMunchies by {average_calories - 60:.2f} calories')"
   ]
  },
  {
   "cell_type": "markdown",
   "id": "b2ddb4cd",
   "metadata": {},
   "source": [
    "3. Корректно ли среднее количество калорий отражает распределение набора данных? Давайте отсортируем данные и посмотрим.\n",
    "\n",
    "Отсортируйте данные и сохраните результат в переменной calorie_stats_sorted. Распечатайте отсортированную информацию"
   ]
  },
  {
   "cell_type": "code",
   "execution_count": 17,
   "id": "46eeb4ed",
   "metadata": {},
   "outputs": [
    {
     "name": "stdout",
     "output_type": "stream",
     "text": [
      "Sorted calories of competitors:\n",
      "[ 50.  50.  50.  70.  70.  80.  90.  90.  90.  90.  90.  90.  90. 100.\n",
      " 100. 100. 100. 100. 100. 100. 100. 100. 100. 100. 100. 100. 100. 100.\n",
      " 100. 100. 110. 110. 110. 110. 110. 110. 110. 110. 110. 110. 110. 110.\n",
      " 110. 110. 110. 110. 110. 110. 110. 110. 110. 110. 110. 110. 110. 110.\n",
      " 110. 110. 110. 120. 120. 120. 120. 120. 120. 120. 120. 120. 120. 130.\n",
      " 130. 140. 140. 140. 150. 150. 160.]\n"
     ]
    }
   ],
   "source": [
    "calorie_stats_sorted = np.sort(calorie_stats)\n",
    "print(f'Sorted calories of competitors:\\n{calorie_stats_sorted}')"
   ]
  },
  {
   "cell_type": "markdown",
   "id": "4dc74116",
   "metadata": {},
   "source": [
    "4. Похоже, что большинство значений выше среднего. Давайте посмотрим, является ли медиана наиболее корректным показателем набора данных.\n",
    "\n",
    "Вычислите медиану набора данных и сохраните свой ответ в median_calories. Выведите медиану, чтобы вы могли видеть, как она сравнивается со средним значением."
   ]
  },
  {
   "cell_type": "code",
   "execution_count": 18,
   "id": "b56627c3",
   "metadata": {},
   "outputs": [
    {
     "name": "stdout",
     "output_type": "stream",
     "text": [
      "Median score for calories: 110.0\n"
     ]
    }
   ],
   "source": [
    "median_calories = np.median(calorie_stats)\n",
    "print(f'Median score for calories: {median_calories}')"
   ]
  },
  {
   "cell_type": "markdown",
   "id": "a63ab72f",
   "metadata": {},
   "source": [
    "5. В то время как медиана показывает, что по крайней мере половина наших значений составляет более 100 калорий, было бы более впечатляюще показать, что значительная часть конкурентов имеет более высокое количество калорий, чем CrunchieMunchies.\n",
    "\n",
    "Рассчитайте различные процентили и распечатайте их, пока не найдете наименьший процентиль, превышающий 60 калорий. Сохраните это значение в переменной nth_percentile."
   ]
  },
  {
   "cell_type": "code",
   "execution_count": 24,
   "id": "fe80ce03",
   "metadata": {},
   "outputs": [
    {
     "name": "stdout",
     "output_type": "stream",
     "text": [
      "Min percentile greater than 60: 4\n"
     ]
    }
   ],
   "source": [
    "nth_percentile = 0\n",
    "for i in range(1, 101):\n",
    "    perc = np.percentile(calorie_stats, i)\n",
    "    if perc > 60:\n",
    "        nth_percentile = i\n",
    "        break\n",
    "print(f'Min percentile greater than 60: {nth_percentile}')\n",
    "        "
   ]
  },
  {
   "cell_type": "markdown",
   "id": "a2a3c5aa",
   "metadata": {},
   "source": [
    "6. Хотя процентиль показывает нам, что у большинства конкурентов количество калорий намного выше, это неудобная концепция для использования в маркетинговых материалах.\n",
    "\n",
    "Вместо этого давайте подсчитаем процент хлопьев, в которых содержится более 60 калорий на порцию. Сохраните свой ответ в переменной more_calories и распечатайте его"
   ]
  },
  {
   "cell_type": "code",
   "execution_count": 28,
   "id": "ade0f6ea",
   "metadata": {},
   "outputs": [
    {
     "name": "stdout",
     "output_type": "stream",
     "text": [
      "Percent of competitors with more than 60 calories per portion: 96.10%\n"
     ]
    }
   ],
   "source": [
    "more_calories = calorie_stats[calorie_stats > 60].size * 100 / calorie_stats.size\n",
    "print(f'Percent of competitors with more than 60 calories per portion: {more_calories:.2f}%')"
   ]
  },
  {
   "cell_type": "markdown",
   "id": "1735d65b",
   "metadata": {},
   "source": [
    "7. Это действительно высокий процент. Это будет очень полезно, когда мы будем продвигать CrunchieMunchies. Но один вопрос заключается в том, насколько велики различия в наборе данных? Можем ли мы сделать обобщение, что в большинстве злаков содержится около 100 калорий или разброс еще больше?\n",
    "\n",
    "Рассчитайте величину отклонения, найдя стандартное отклонение, Сохраните свой ответ в calorie_std и распечатайте на терминале. Как мы можем включить эту ценность в наш анализ?"
   ]
  },
  {
   "cell_type": "code",
   "execution_count": 34,
   "id": "85c8df1f",
   "metadata": {},
   "outputs": [
    {
     "name": "stdout",
     "output_type": "stream",
     "text": [
      "Standard deviation of calories: 19.36\n"
     ]
    }
   ],
   "source": [
    "calorie_std = np.std(calorie_stats)\n",
    "print(f'Standard deviation of calories: {calorie_std:.2f}')\n",
    "#С помощью отклонения можно глянуть диапазон основной доли данных(среднее +- отклонение), и тогда опять же будет \n",
    "#видно, что основная часть конкурентов сильно уступает по калорийности."
   ]
  },
  {
   "cell_type": "markdown",
   "id": "037455c5",
   "metadata": {},
   "source": [
    "8. Напишите короткий абзац, в котором кратко изложите свои выводы и то, как, по вашему мнению, эти данные могут быть использованы в интересах Mycrunch при маркетинге CrunchieMunchies."
   ]
  },
  {
   "cell_type": "code",
   "execution_count": 167,
   "id": "c260fee9",
   "metadata": {},
   "outputs": [],
   "source": [
    "#Исходя из проделанной работы, можно сделать вывод, что наиболее информативными метриками для аналитика будут медиана, \n",
    "#процентили и стандартное отклонение. Согласно им данные хлопья выигрывают по калорийности, что привлечет потребителей,\n",
    "#котролирующих свое питание. Статистики можно использовать в рекламной кампания для привлечения новых клиентов."
   ]
  }
 ],
 "metadata": {
  "kernelspec": {
   "display_name": "Python 3 (ipykernel)",
   "language": "python",
   "name": "python3"
  },
  "language_info": {
   "codemirror_mode": {
    "name": "ipython",
    "version": 3
   },
   "file_extension": ".py",
   "mimetype": "text/x-python",
   "name": "python",
   "nbconvert_exporter": "python",
   "pygments_lexer": "ipython3",
   "version": "3.11.4"
  }
 },
 "nbformat": 4,
 "nbformat_minor": 5
}
